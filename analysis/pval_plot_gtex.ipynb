{
 "cells": [
  {
   "cell_type": "markdown",
   "metadata": {},
   "source": [
    "* For a NMF_kl fit on dataset \"GTEx\", I computed p-value for each component using poisson distribution. There are two ways. One is directly using ```ppois(x, lam)```, the other is ```c*ppois(x-1, lam) + (1-c)*ppos(x,lam), where c ~ U(0,1)```. I call the first one \"Poisson p value\", the second one \"Poisson continuous pvalue\" \n",
    "\n",
    "* I try to find out those with very big p values\n",
    "\n",
    "* I compute eigenvalues for the binary matrix with one for each entry with very big p-value (0.999)\n",
    "\n",
    "\n",
    "## Result:\n",
    "* the histogram of p-values are shown (cannot display in html so I put the link) https://github.com/zihao12/lowrank-nmf/blob/master/output/gtex_betanmf_K20_pval_poisson.png and https://github.com/zihao12/lowrank-nmf/blob/master/output/gtex_betanmf_K20_pval_poisson_cts.png\n",
    "\n",
    "* around 1/4 of the genes account for all those big p values; there are quite many samples that also have many big p values\n",
    "\n",
    "* There is a big eigenvalue of the binary matrix. It is especially big if we compare that with \"montoro droplet\" dataset result. \n"
   ]
  },
  {
   "cell_type": "markdown",
   "metadata": {},
   "source": [
    "# Compute p-value matrix and plot histogram"
   ]
  },
  {
   "cell_type": "code",
   "execution_count": 1,
   "metadata": {},
   "outputs": [],
   "source": [
    "source(\"../code/misc.R\")\n",
    "library(readr)\n",
    "library(rsvd)\n"
   ]
  },
  {
   "cell_type": "code",
   "execution_count": 2,
   "metadata": {},
   "outputs": [
    {
     "name": "stdout",
     "output_type": "stream",
     "text": [
      "finish reading data after 228.938000 seconds\n",
      "dimension of data: n=11688, p = 55863\n"
     ]
    }
   ],
   "source": [
    "start = proc.time()\n",
    "dataname = \"gtex\"\n",
    "counts = read.csv.matrix(sprintf(\"../bigdata/%s.csv\",dataname))\n",
    "runtime = proc.time() - start\n",
    "cat(sprintf(\"finish reading data after %f seconds\\n\", runtime[[3]]))\n",
    "cat(sprintf(\"dimension of data: n=%d, p = %d\\n\", dim(counts)[1], dim(counts)[2]))"
   ]
  },
  {
   "cell_type": "markdown",
   "metadata": {},
   "source": [
    "## what does the data look like"
   ]
  },
  {
   "cell_type": "code",
   "execution_count": 3,
   "metadata": {},
   "outputs": [
    {
     "name": "stdout",
     "output_type": "stream",
     "text": [
      "summary"
     ]
    },
    {
     "data": {
      "text/plain": [
       "    Min.  1st Qu.   Median     Mean  3rd Qu.     Max. \n",
       "       0        0        1     1080      102 27195665 "
      ]
     },
     "metadata": {},
     "output_type": "display_data"
    }
   ],
   "source": [
    "cat(\"summary\")\n",
    "summary(as.vector(counts))"
   ]
  },
  {
   "cell_type": "code",
   "execution_count": 4,
   "metadata": {},
   "outputs": [
    {
     "name": "stdout",
     "output_type": "stream",
     "text": [
      "percentage of 0s: 0.484126"
     ]
    }
   ],
   "source": [
    "cat(sprintf(\"percentage of 0s: %f\", length(counts[counts == 0])/(nrow(counts)*ncol(counts))))"
   ]
  },
  {
   "cell_type": "markdown",
   "metadata": {},
   "source": [
    "So this dataset is quite sparse. It has has some big numbers (not that big compared with GTEx dataset)"
   ]
  },
  {
   "cell_type": "markdown",
   "metadata": {},
   "source": [
    "## compute pvalue"
   ]
  },
  {
   "cell_type": "code",
   "execution_count": 5,
   "metadata": {},
   "outputs": [],
   "source": [
    "method = \"betanmf\"\n",
    "\n",
    "F = read.csv.matrix(sprintf(\"../bigdata/%s_factors_%s.csv\", dataname, method))\n",
    "L = read.csv.matrix(sprintf(\"../bigdata/%s_loadings_%s.csv\", dataname, method))\n",
    "K = ncol(L)\n",
    "\n",
    "# pval_pois_cts.out.file <- sprintf(\"%s_%s_K%d_pval_poisson_cts.png\",dataname, method, K)\n",
    "# pval_poisson.out.file <- sprintf(\"%s_%s_K%d_pval_poisson.png\",dataname, method, K)\n",
    "\n",
    "# main = sprintf(\"%s on %s with K = %d\", method, dataname, K)\n",
    "# pval_plot_pois_cts(counts, L%*%t(F), pval_pois_cts.out.file, main)\n",
    "# pval_plot_poisson(counts, L%*%t(F), pval_poisson.out.file, main)\n",
    "\n"
   ]
  },
  {
   "cell_type": "code",
   "execution_count": null,
   "metadata": {},
   "outputs": [],
   "source": [
    "The poisson pvalue\n",
    "<img src=\"gtex_betanmf_K20_pval_poisson.png\">\n",
    "\n",
    "The \"continuous\" poisson pvalue\n",
    "<img src=\"gtex_betanmf_K20_pval_poisson_cts.png\">\n",
    "\n"
   ]
  },
  {
   "cell_type": "markdown",
   "metadata": {},
   "source": [
    "# See what are those big p-values"
   ]
  },
  {
   "cell_type": "code",
   "execution_count": 6,
   "metadata": {},
   "outputs": [],
   "source": [
    "pvals_cts <- function(X,Lam){\n",
    "    set.seed(123)\n",
    "    n = nrow(X)\n",
    "    p = ncol(X)\n",
    "    C = matrix(runif(n*p), nrow = n)\n",
    "    pvals = C * ppois(X-1, Lam) + (1-C) * ppois(X, Lam)\n",
    "    return(pvals)\n",
    "}\n",
    "Lam = L%*%t(F)\n",
    "pval = pvals_cts(counts, Lam)\n"
   ]
  },
  {
   "cell_type": "code",
   "execution_count": 12,
   "metadata": {},
   "outputs": [
    {
     "name": "stdout",
     "output_type": "stream",
     "text": [
      "percentage of those have p value > 0.999: 0.516357"
     ]
    }
   ],
   "source": [
    "threshold = 0.999\n",
    "pval_bin = pval > threshold\n",
    "cat(sprintf(\"percentage of those have p value > %.3f: %f\",threshold, sum(pval_bin)/(nrow(pval)*ncol(pval))))"
   ]
  },
  {
   "cell_type": "markdown",
   "metadata": {},
   "source": [
    "### Those big p values are wide spread across samples and genes\n",
    "* For each gene, I show for how many entries the fit has p value larger than 0.999. On average there should be around 5000 per gene, and our histogram show around 1/4 genes have more than 10,000 (basically across all samples). \n",
    "\n",
    "* Across samples it is more normally distributed, though there are quite many outlier samples that have over 40,000 such entries (around 70% of genes)"
   ]
  },
  {
   "cell_type": "code",
   "execution_count": 13,
   "metadata": {},
   "outputs": [
    {
     "data": {
      "image/png": "[encoded data removed]",
      "text/plain": [
       "Plot with title “number of p values > 0.999000 in a gene”"
      ]
     },
     "metadata": {},
     "output_type": "display_data"
    }
   ],
   "source": [
    "hist(colSums(pval_bin), breaks = 100, xlab = sprintf(\"# of pval > %f in a gene\", threshold), \n",
    "     main = sprintf(\"number of p values > %f in a gene\", threshold))"
   ]
  },
  {
   "cell_type": "code",
   "execution_count": 14,
   "metadata": {},
   "outputs": [
    {
     "data": {
      "image/png": "[encoded data removed]",
      "text/plain": [
       "Plot with title “number of p values > 0.999000 in a sample”"
      ]
     },
     "metadata": {},
     "output_type": "display_data"
    }
   ],
   "source": [
    "hist(rowSums(pval_bin), breaks = 100, xlab = sprintf(\"# of pval > %f in a sample\", threshold), \n",
    "     main = sprintf(\"number of p values > %f in a sample\", threshold))"
   ]
  },
  {
   "cell_type": "markdown",
   "metadata": {},
   "source": [
    "# Find Eigenvalues of binary matrix\n",
    "\n",
    "I form a binary matrix of the same size as original data. An ertry is one if the p value is larger than 0.999. Then I compute its eigenvalues. "
   ]
  },
  {
   "cell_type": "code",
   "execution_count": 15,
   "metadata": {},
   "outputs": [
    {
     "data": {
      "image/png": "[encoded data removed]",
      "text/plain": [
       "Plot with title “ eigenvalues of pval_binary matrix for pvalue > 0.999”"
      ]
     },
     "metadata": {},
     "output_type": "display_data"
    }
   ],
   "source": [
    "set.seed(12345)\n",
    "svd_out = rsvd(pval_bin,k = 50)\n",
    "plot(svd_out$d, xlab = \"rank of pc\", ylab = \"d\", \n",
    "     main = sprintf(\" eigenvalues of pval_binary matrix for pvalue > %.3f\", threshold))"
   ]
  },
  {
   "cell_type": "code",
   "execution_count": 16,
   "metadata": {},
   "outputs": [
    {
     "name": "stdout",
     "output_type": "stream",
     "text": [
      "[1] \"see the scale of the eigenvalues\"\n"
     ]
    },
    {
     "data": {
      "text/html": [
       "<ol class=list-inline>\n",
       "\t<li>16956.5811625885</li>\n",
       "\t<li>1550.29005882537</li>\n",
       "\t<li>1285.73506007766</li>\n",
       "\t<li>994.329780848986</li>\n",
       "\t<li>883.939978115652</li>\n",
       "\t<li>803.361482501501</li>\n",
       "\t<li>664.689141166231</li>\n",
       "\t<li>631.578721098169</li>\n",
       "\t<li>589.188752132848</li>\n",
       "\t<li>552.247648042321</li>\n",
       "\t<li>526.056970508197</li>\n",
       "\t<li>478.109210265169</li>\n",
       "\t<li>465.922698171979</li>\n",
       "\t<li>440.250862524895</li>\n",
       "\t<li>438.04975992905</li>\n",
       "\t<li>416.199373417196</li>\n",
       "\t<li>405.219031805048</li>\n",
       "\t<li>384.272371039702</li>\n",
       "\t<li>374.557154561803</li>\n",
       "\t<li>363.967719715626</li>\n",
       "\t<li>362.092394456562</li>\n",
       "\t<li>347.235066707456</li>\n",
       "\t<li>334.164937238785</li>\n",
       "\t<li>324.214122544295</li>\n",
       "\t<li>309.694375570643</li>\n",
       "\t<li>304.752139099341</li>\n",
       "\t<li>292.693262388986</li>\n",
       "\t<li>289.258858998175</li>\n",
       "\t<li>283.137592792417</li>\n",
       "\t<li>273.347715817939</li>\n",
       "\t<li>269.51731028431</li>\n",
       "\t<li>260.856679036118</li>\n",
       "\t<li>248.491200788164</li>\n",
       "\t<li>245.911786244543</li>\n",
       "\t<li>240.823932112099</li>\n",
       "\t<li>239.013777626934</li>\n",
       "\t<li>224.192466890755</li>\n",
       "\t<li>216.817279358225</li>\n",
       "\t<li>213.659161799239</li>\n",
       "\t<li>199.758069089966</li>\n",
       "\t<li>195.973685971467</li>\n",
       "\t<li>195.338779322289</li>\n",
       "\t<li>191.160903892271</li>\n",
       "\t<li>185.861397014086</li>\n",
       "\t<li>183.020368175716</li>\n",
       "\t<li>180.708892554115</li>\n",
       "\t<li>176.045844714474</li>\n",
       "\t<li>170.128706856059</li>\n",
       "\t<li>169.026703624941</li>\n",
       "\t<li>162.199428442397</li>\n",
       "</ol>\n"
      ],
      "text/latex": [
       "\\begin{enumerate*}\n",
       "\\item 16956.5811625885\n",
       "\\item 1550.29005882537\n",
       "\\item 1285.73506007766\n",
       "\\item 994.329780848986\n",
       "\\item 883.939978115652\n",
       "\\item 803.361482501501\n",
       "\\item 664.689141166231\n",
       "\\item 631.578721098169\n",
       "\\item 589.188752132848\n",
       "\\item 552.247648042321\n",
       "\\item 526.056970508197\n",
       "\\item 478.109210265169\n",
       "\\item 465.922698171979\n",
       "\\item 440.250862524895\n",
       "\\item 438.04975992905\n",
       "\\item 416.199373417196\n",
       "\\item 405.219031805048\n",
       "\\item 384.272371039702\n",
       "\\item 374.557154561803\n",
       "\\item 363.967719715626\n",
       "\\item 362.092394456562\n",
       "\\item 347.235066707456\n",
       "\\item 334.164937238785\n",
       "\\item 324.214122544295\n",
       "\\item 309.694375570643\n",
       "\\item 304.752139099341\n",
       "\\item 292.693262388986\n",
       "\\item 289.258858998175\n",
       "\\item 283.137592792417\n",
       "\\item 273.347715817939\n",
       "\\item 269.51731028431\n",
       "\\item 260.856679036118\n",
       "\\item 248.491200788164\n",
       "\\item 245.911786244543\n",
       "\\item 240.823932112099\n",
       "\\item 239.013777626934\n",
       "\\item 224.192466890755\n",
       "\\item 216.817279358225\n",
       "\\item 213.659161799239\n",
       "\\item 199.758069089966\n",
       "\\item 195.973685971467\n",
       "\\item 195.338779322289\n",
       "\\item 191.160903892271\n",
       "\\item 185.861397014086\n",
       "\\item 183.020368175716\n",
       "\\item 180.708892554115\n",
       "\\item 176.045844714474\n",
       "\\item 170.128706856059\n",
       "\\item 169.026703624941\n",
       "\\item 162.199428442397\n",
       "\\end{enumerate*}\n"
      ],
      "text/markdown": [
       "1. 16956.5811625885\n",
       "2. 1550.29005882537\n",
       "3. 1285.73506007766\n",
       "4. 994.329780848986\n",
       "5. 883.939978115652\n",
       "6. 803.361482501501\n",
       "7. 664.689141166231\n",
       "8. 631.578721098169\n",
       "9. 589.188752132848\n",
       "10. 552.247648042321\n",
       "11. 526.056970508197\n",
       "12. 478.109210265169\n",
       "13. 465.922698171979\n",
       "14. 440.250862524895\n",
       "15. 438.04975992905\n",
       "16. 416.199373417196\n",
       "17. 405.219031805048\n",
       "18. 384.272371039702\n",
       "19. 374.557154561803\n",
       "20. 363.967719715626\n",
       "21. 362.092394456562\n",
       "22. 347.235066707456\n",
       "23. 334.164937238785\n",
       "24. 324.214122544295\n",
       "25. 309.694375570643\n",
       "26. 304.752139099341\n",
       "27. 292.693262388986\n",
       "28. 289.258858998175\n",
       "29. 283.137592792417\n",
       "30. 273.347715817939\n",
       "31. 269.51731028431\n",
       "32. 260.856679036118\n",
       "33. 248.491200788164\n",
       "34. 245.911786244543\n",
       "35. 240.823932112099\n",
       "36. 239.013777626934\n",
       "37. 224.192466890755\n",
       "38. 216.817279358225\n",
       "39. 213.659161799239\n",
       "40. 199.758069089966\n",
       "41. 195.973685971467\n",
       "42. 195.338779322289\n",
       "43. 191.160903892271\n",
       "44. 185.861397014086\n",
       "45. 183.020368175716\n",
       "46. 180.708892554115\n",
       "47. 176.045844714474\n",
       "48. 170.128706856059\n",
       "49. 169.026703624941\n",
       "50. 162.199428442397\n",
       "\n",
       "\n"
      ],
      "text/plain": [
       " [1] 16956.5812  1550.2901  1285.7351   994.3298   883.9400   803.3615\n",
       " [7]   664.6891   631.5787   589.1888   552.2476   526.0570   478.1092\n",
       "[13]   465.9227   440.2509   438.0498   416.1994   405.2190   384.2724\n",
       "[19]   374.5572   363.9677   362.0924   347.2351   334.1649   324.2141\n",
       "[25]   309.6944   304.7521   292.6933   289.2589   283.1376   273.3477\n",
       "[31]   269.5173   260.8567   248.4912   245.9118   240.8239   239.0138\n",
       "[37]   224.1925   216.8173   213.6592   199.7581   195.9737   195.3388\n",
       "[43]   191.1609   185.8614   183.0204   180.7089   176.0458   170.1287\n",
       "[49]   169.0267   162.1994"
      ]
     },
     "metadata": {},
     "output_type": "display_data"
    }
   ],
   "source": [
    "print(\"see the scale of the eigenvalues\")\n",
    "svd_out$d"
   ]
  },
  {
   "cell_type": "code",
   "execution_count": null,
   "metadata": {},
   "outputs": [],
   "source": []
  },
  {
   "cell_type": "code",
   "execution_count": null,
   "metadata": {},
   "outputs": [],
   "source": []
  }
 ],
 "metadata": {
  "kernelspec": {
   "display_name": "R",
   "language": "R",
   "name": "ir"
  },
  "language_info": {
   "codemirror_mode": "r",
   "file_extension": ".r",
   "mimetype": "text/x-r-source",
   "name": "R",
   "pygments_lexer": "r",
   "version": "3.5.1"
  }
 },
 "nbformat": 4,
 "nbformat_minor": 2
}
