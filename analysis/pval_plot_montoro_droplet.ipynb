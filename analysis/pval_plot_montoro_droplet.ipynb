{
 "cells": [
  {
   "cell_type": "markdown",
   "metadata": {},
   "source": [
    "* For a NMF_kl fit on dataset \"montoro_droplet\", I computed p-value for each component using poisson distribution. There are two ways. One is directly using ```ppois(x, lam)```, the other is ```c*ppois(x-1, lam) + (1-c)*ppos(x,lam), where c ~ U(0,1)```. I call the first one \"Poisson p value\", the second one \"Poisson continuous pvalue\" \n",
    "\n",
    "* I try to find out those with very big p values\n",
    "\n",
    "* I compute eigenvalues for the binary matrix with one for each entry with very big p-value (0.99)\n",
    "\n",
    "\n",
    "to avoid confusion: \n",
    "* the `rank1` refers to Yongsok's rank-one update algorithm. \n",
    "* Poisson_cts means \"Poisson continuous pvalue\" \n",
    "\n",
    "## Result:\n",
    "* the histogram of p-values are shown below (note the data is sparse, with 90% 0s)(cannot display in html so I put the link) https://github.com/zihao12/lowrank-nmf/blob/master/output/montoro_droplet_rank1_K13_pval_poisson.png and https://github.com/zihao12/lowrank-nmf/blob/master/output/montoro_droplet_rank1_K13_pval_poisson_cts.png\n",
    "\n",
    "* I cannot find a small subset of genes that are responsible for those fits with big p values (>0.99)\n",
    "\n",
    "* There is a big eigenvalue of the binary matrix. \n"
   ]
  },
  {
   "cell_type": "markdown",
   "metadata": {},
   "source": [
    "# Compute p-value matrix and plot histogram"
   ]
  },
  {
   "cell_type": "code",
   "execution_count": 1,
   "metadata": {},
   "outputs": [],
   "source": [
    "source(\"../code/misc.R\")\n",
    "library(readr)\n",
    "library(rsvd)\n"
   ]
  },
  {
   "cell_type": "code",
   "execution_count": 2,
   "metadata": {},
   "outputs": [
    {
     "name": "stdout",
     "output_type": "stream",
     "text": [
      "finish reading data after 35.172000 seconds\n",
      "dimension of data: n=7193, p = 18388\n"
     ]
    }
   ],
   "source": [
    "start = proc.time()\n",
    "dataname = \"montoro_droplet\"\n",
    "counts = read.csv.matrix(sprintf(\"../bigdata/%s.csv\",dataname))\n",
    "runtime = proc.time() - start\n",
    "cat(sprintf(\"finish reading data after %f seconds\\n\", runtime[[3]]))\n",
    "cat(sprintf(\"dimension of data: n=%d, p = %d\\n\", dim(counts)[1], dim(counts)[2]))"
   ]
  },
  {
   "cell_type": "markdown",
   "metadata": {},
   "source": [
    "## what does the data look like"
   ]
  },
  {
   "cell_type": "code",
   "execution_count": 3,
   "metadata": {},
   "outputs": [
    {
     "name": "stdout",
     "output_type": "stream",
     "text": [
      "summary"
     ]
    },
    {
     "data": {
      "text/plain": [
       "     Min.   1st Qu.    Median      Mean   3rd Qu.      Max. \n",
       "    0.000     0.000     0.000     0.347     0.000 21674.000 "
      ]
     },
     "metadata": {},
     "output_type": "display_data"
    }
   ],
   "source": [
    "cat(\"summary\")\n",
    "summary(as.vector(counts))"
   ]
  },
  {
   "cell_type": "code",
   "execution_count": 4,
   "metadata": {},
   "outputs": [
    {
     "name": "stdout",
     "output_type": "stream",
     "text": [
      "percentage of 0s: 0.906888"
     ]
    }
   ],
   "source": [
    "cat(sprintf(\"percentage of 0s: %f\", length(counts[counts == 0])/(nrow(counts)*ncol(counts))))"
   ]
  },
  {
   "cell_type": "markdown",
   "metadata": {},
   "source": [
    "So this dataset is quite sparse. It has has some big numbers (not that big compared with GTEx dataset)"
   ]
  },
  {
   "cell_type": "markdown",
   "metadata": {},
   "source": [
    "## compute pvalue"
   ]
  },
  {
   "cell_type": "code",
   "execution_count": 5,
   "metadata": {},
   "outputs": [
    {
     "data": {
      "text/html": [
       "<strong>png:</strong> 2"
      ],
      "text/latex": [
       "\\textbf{png:} 2"
      ],
      "text/markdown": [
       "**png:** 2"
      ],
      "text/plain": [
       "png \n",
       "  2 "
      ]
     },
     "metadata": {},
     "output_type": "display_data"
    },
    {
     "data": {
      "text/html": [
       "<strong>png:</strong> 2"
      ],
      "text/latex": [
       "\\textbf{png:} 2"
      ],
      "text/markdown": [
       "**png:** 2"
      ],
      "text/plain": [
       "png \n",
       "  2 "
      ]
     },
     "metadata": {},
     "output_type": "display_data"
    }
   ],
   "source": [
    "method = \"rank1\"\n",
    "K = 13\n",
    "\n",
    "F = read.csv.matrix(sprintf(\"../bigdata/%s_factors_%s.csv\", dataname, method))\n",
    "L = read.csv.matrix(sprintf(\"../bigdata/%s_loadings_%s.csv\", dataname, method))\n",
    "\n",
    "pval_pois_cts.out.file <- sprintf(\"%s_%s_K%d_pval_poisson_cts.png\",dataname, method, K)\n",
    "pval_poisson.out.file <- sprintf(\"%s_%s_K%d_pval_poisson.png\",dataname, method, K)\n",
    "\n",
    "main = sprintf(\"%s on %s with K = %d\", method, dataname, K)\n",
    "pval_plot_pois_cts(counts, L%*%t(F), pval_pois_cts.out.file, main)\n",
    "pval_plot_poisson(counts, L%*%t(F), pval_poisson.out.file, main)\n",
    "\n"
   ]
  },
  {
   "cell_type": "markdown",
   "metadata": {},
   "source": [
    "The poisson pvalue\n",
    "<img src=\"montoro_droplet_rank1_K13_pval_poisson.png\">\n",
    "\n",
    "The \"continuous\" poisson pvalue\n",
    "<img src=\"montoro_droplet_rank1_K13_pval_poisson_cts.png\">\n",
    "\n"
   ]
  },
  {
   "cell_type": "markdown",
   "metadata": {},
   "source": [
    "# See what are those big p-values"
   ]
  },
  {
   "cell_type": "code",
   "execution_count": 6,
   "metadata": {},
   "outputs": [],
   "source": [
    "pvals_cts <- function(X,Lam){\n",
    "    set.seed(123)\n",
    "    n = nrow(X)\n",
    "    p = ncol(X)\n",
    "    C = matrix(runif(n*p), nrow = n)\n",
    "    pvals = C * ppois(X-1, Lam) + (1-C) * ppois(X, Lam)\n",
    "    return(pvals)\n",
    "}\n",
    "Lam = L%*%t(F)\n",
    "pval = pvals_cts(counts, Lam)\n"
   ]
  },
  {
   "cell_type": "code",
   "execution_count": 14,
   "metadata": {},
   "outputs": [
    {
     "name": "stdout",
     "output_type": "stream",
     "text": [
      "percentage of those have p value > 0.990: 0.013025"
     ]
    }
   ],
   "source": [
    "threshold = 0.99\n",
    "pval_bin = pval > threshold\n",
    "cat(sprintf(\"percentage of those have p value > %.3f: %f\",threshold, sum(pval_bin)/(nrow(pval)*ncol(pval))))"
   ]
  },
  {
   "cell_type": "markdown",
   "metadata": {},
   "source": [
    "### Those big p values are wide spread across samples and genes\n",
    "* For each gene, I show for how many entries the fit has p value larger than 0.99. On average there should be around 70 per gene, and our histogram show most genes have around 50 to 100 such entries. So they are not concentrated in only a few genes. \n",
    "\n",
    "* Similar result is shown for sample. "
   ]
  },
  {
   "cell_type": "code",
   "execution_count": 17,
   "metadata": {},
   "outputs": [
    {
     "data": {
      "image/png": "[encoded data removed]",
      "text/plain": [
       "Plot with title “number of p values > 0.990000 in a gene”"
      ]
     },
     "metadata": {},
     "output_type": "display_data"
    }
   ],
   "source": [
    "hist(colSums(pval_bin), breaks = 100, xlab = sprintf(\"# of pval > %f in a gene\", threshold), \n",
    "     main = sprintf(\"number of p values > %f in a gene\", threshold))"
   ]
  },
  {
   "cell_type": "code",
   "execution_count": 18,
   "metadata": {},
   "outputs": [
    {
     "data": {
      "image/png": "[encoded data removed]",
      "text/plain": [
       "Plot with title “number of p values > 0.990000 in a sample”"
      ]
     },
     "metadata": {},
     "output_type": "display_data"
    }
   ],
   "source": [
    "hist(rowSums(pval_bin), breaks = 100, xlab = sprintf(\"# of pval > %f in a sample\", threshold), \n",
    "     main = sprintf(\"number of p values > %f in a sample\", threshold))"
   ]
  },
  {
   "cell_type": "markdown",
   "metadata": {},
   "source": [
    "# Find Eigenvalues of binary matrix\n",
    "\n",
    "I form a binary matrix of the same size as original data. An ertry is one if the p value is larger than 0.9. Then I compute its eigenvalues. "
   ]
  },
  {
   "cell_type": "code",
   "execution_count": 19,
   "metadata": {},
   "outputs": [
    {
     "data": {
      "image/png": "[encoded data removed]",
      "text/plain": [
       "Plot with title “ eigenvalues of pval_binary matrix for pvalue > 0.990”"
      ]
     },
     "metadata": {},
     "output_type": "display_data"
    }
   ],
   "source": [
    "set.seed(12345)\n",
    "svd_out = rsvd(pval_bin,k = 50)\n",
    "plot(svd_out$d, xlab = \"rank of pc\", ylab = \"d\", \n",
    "     main = sprintf(\" eigenvalues of pval_binary matrix for pvalue > %.3f\", threshold))"
   ]
  },
  {
   "cell_type": "code",
   "execution_count": 20,
   "metadata": {},
   "outputs": [
    {
     "name": "stdout",
     "output_type": "stream",
     "text": [
      "[1] \"see the scale of the eigenvalues\"\n"
     ]
    },
    {
     "data": {
      "text/html": [
       "<ol class=list-inline>\n",
       "\t<li>173.254783473329</li>\n",
       "\t<li>46.8880980839009</li>\n",
       "\t<li>39.8867547462547</li>\n",
       "\t<li>38.6896707502211</li>\n",
       "\t<li>37.6421087550655</li>\n",
       "\t<li>37.0035354477281</li>\n",
       "\t<li>36.317741856702</li>\n",
       "\t<li>35.1079563579819</li>\n",
       "\t<li>33.7762556785437</li>\n",
       "\t<li>33.0157046522789</li>\n",
       "\t<li>32.7035517113898</li>\n",
       "\t<li>31.6332560038837</li>\n",
       "\t<li>30.8279900417995</li>\n",
       "\t<li>30.5202543195077</li>\n",
       "\t<li>29.8236349788467</li>\n",
       "\t<li>29.6277337915895</li>\n",
       "\t<li>29.5048779932262</li>\n",
       "\t<li>28.8304596944417</li>\n",
       "\t<li>28.2959252119683</li>\n",
       "\t<li>28.0913130886881</li>\n",
       "\t<li>27.8906950397116</li>\n",
       "\t<li>27.7247046627849</li>\n",
       "\t<li>27.3980817837833</li>\n",
       "\t<li>27.2833433105702</li>\n",
       "\t<li>26.6524784566216</li>\n",
       "\t<li>26.4551318610998</li>\n",
       "\t<li>26.3244956964262</li>\n",
       "\t<li>26.1747794210037</li>\n",
       "\t<li>26.1051831021296</li>\n",
       "\t<li>25.7611601048036</li>\n",
       "\t<li>25.6111103080678</li>\n",
       "\t<li>25.4110594700941</li>\n",
       "\t<li>25.3138920424113</li>\n",
       "\t<li>25.1671259205158</li>\n",
       "\t<li>25.0065231098176</li>\n",
       "\t<li>24.9433375308815</li>\n",
       "\t<li>24.8364047136094</li>\n",
       "\t<li>24.7542203030323</li>\n",
       "\t<li>24.6192616421747</li>\n",
       "\t<li>24.5092986686812</li>\n",
       "\t<li>24.4381929524837</li>\n",
       "\t<li>24.2660923235824</li>\n",
       "\t<li>24.20356644454</li>\n",
       "\t<li>24.1260733082977</li>\n",
       "\t<li>23.9892900024411</li>\n",
       "\t<li>23.9186944130255</li>\n",
       "\t<li>23.8900722049679</li>\n",
       "\t<li>23.8375283024269</li>\n",
       "\t<li>23.8066354416608</li>\n",
       "\t<li>23.6703317789249</li>\n",
       "</ol>\n"
      ],
      "text/latex": [
       "\\begin{enumerate*}\n",
       "\\item 173.254783473329\n",
       "\\item 46.8880980839009\n",
       "\\item 39.8867547462547\n",
       "\\item 38.6896707502211\n",
       "\\item 37.6421087550655\n",
       "\\item 37.0035354477281\n",
       "\\item 36.317741856702\n",
       "\\item 35.1079563579819\n",
       "\\item 33.7762556785437\n",
       "\\item 33.0157046522789\n",
       "\\item 32.7035517113898\n",
       "\\item 31.6332560038837\n",
       "\\item 30.8279900417995\n",
       "\\item 30.5202543195077\n",
       "\\item 29.8236349788467\n",
       "\\item 29.6277337915895\n",
       "\\item 29.5048779932262\n",
       "\\item 28.8304596944417\n",
       "\\item 28.2959252119683\n",
       "\\item 28.0913130886881\n",
       "\\item 27.8906950397116\n",
       "\\item 27.7247046627849\n",
       "\\item 27.3980817837833\n",
       "\\item 27.2833433105702\n",
       "\\item 26.6524784566216\n",
       "\\item 26.4551318610998\n",
       "\\item 26.3244956964262\n",
       "\\item 26.1747794210037\n",
       "\\item 26.1051831021296\n",
       "\\item 25.7611601048036\n",
       "\\item 25.6111103080678\n",
       "\\item 25.4110594700941\n",
       "\\item 25.3138920424113\n",
       "\\item 25.1671259205158\n",
       "\\item 25.0065231098176\n",
       "\\item 24.9433375308815\n",
       "\\item 24.8364047136094\n",
       "\\item 24.7542203030323\n",
       "\\item 24.6192616421747\n",
       "\\item 24.5092986686812\n",
       "\\item 24.4381929524837\n",
       "\\item 24.2660923235824\n",
       "\\item 24.20356644454\n",
       "\\item 24.1260733082977\n",
       "\\item 23.9892900024411\n",
       "\\item 23.9186944130255\n",
       "\\item 23.8900722049679\n",
       "\\item 23.8375283024269\n",
       "\\item 23.8066354416608\n",
       "\\item 23.6703317789249\n",
       "\\end{enumerate*}\n"
      ],
      "text/markdown": [
       "1. 173.254783473329\n",
       "2. 46.8880980839009\n",
       "3. 39.8867547462547\n",
       "4. 38.6896707502211\n",
       "5. 37.6421087550655\n",
       "6. 37.0035354477281\n",
       "7. 36.317741856702\n",
       "8. 35.1079563579819\n",
       "9. 33.7762556785437\n",
       "10. 33.0157046522789\n",
       "11. 32.7035517113898\n",
       "12. 31.6332560038837\n",
       "13. 30.8279900417995\n",
       "14. 30.5202543195077\n",
       "15. 29.8236349788467\n",
       "16. 29.6277337915895\n",
       "17. 29.5048779932262\n",
       "18. 28.8304596944417\n",
       "19. 28.2959252119683\n",
       "20. 28.0913130886881\n",
       "21. 27.8906950397116\n",
       "22. 27.7247046627849\n",
       "23. 27.3980817837833\n",
       "24. 27.2833433105702\n",
       "25. 26.6524784566216\n",
       "26. 26.4551318610998\n",
       "27. 26.3244956964262\n",
       "28. 26.1747794210037\n",
       "29. 26.1051831021296\n",
       "30. 25.7611601048036\n",
       "31. 25.6111103080678\n",
       "32. 25.4110594700941\n",
       "33. 25.3138920424113\n",
       "34. 25.1671259205158\n",
       "35. 25.0065231098176\n",
       "36. 24.9433375308815\n",
       "37. 24.8364047136094\n",
       "38. 24.7542203030323\n",
       "39. 24.6192616421747\n",
       "40. 24.5092986686812\n",
       "41. 24.4381929524837\n",
       "42. 24.2660923235824\n",
       "43. 24.20356644454\n",
       "44. 24.1260733082977\n",
       "45. 23.9892900024411\n",
       "46. 23.9186944130255\n",
       "47. 23.8900722049679\n",
       "48. 23.8375283024269\n",
       "49. 23.8066354416608\n",
       "50. 23.6703317789249\n",
       "\n",
       "\n"
      ],
      "text/plain": [
       " [1] 173.25478  46.88810  39.88675  38.68967  37.64211  37.00354  36.31774\n",
       " [8]  35.10796  33.77626  33.01570  32.70355  31.63326  30.82799  30.52025\n",
       "[15]  29.82363  29.62773  29.50488  28.83046  28.29593  28.09131  27.89070\n",
       "[22]  27.72470  27.39808  27.28334  26.65248  26.45513  26.32450  26.17478\n",
       "[29]  26.10518  25.76116  25.61111  25.41106  25.31389  25.16713  25.00652\n",
       "[36]  24.94334  24.83640  24.75422  24.61926  24.50930  24.43819  24.26609\n",
       "[43]  24.20357  24.12607  23.98929  23.91869  23.89007  23.83753  23.80664\n",
       "[50]  23.67033"
      ]
     },
     "metadata": {},
     "output_type": "display_data"
    }
   ],
   "source": [
    "print(\"see the scale of the eigenvalues\")\n",
    "svd_out$d"
   ]
  },
  {
   "cell_type": "code",
   "execution_count": null,
   "metadata": {},
   "outputs": [],
   "source": []
  },
  {
   "cell_type": "code",
   "execution_count": null,
   "metadata": {},
   "outputs": [],
   "source": []
  }
 ],
 "metadata": {
  "kernelspec": {
   "display_name": "R",
   "language": "R",
   "name": "ir"
  },
  "language_info": {
   "codemirror_mode": "r",
   "file_extension": ".r",
   "mimetype": "text/x-r-source",
   "name": "R",
   "pygments_lexer": "r",
   "version": "3.5.1"
  }
 },
 "nbformat": 4,
 "nbformat_minor": 2
}
