{
 "cells": [
  {
   "cell_type": "markdown",
   "metadata": {},
   "source": [
    "* Data Downloaded from http://archive.ics.uci.edu/ml/machine-learning-databases/bag-of-words/\n",
    " and saved at `/project/mstephens/zihao/text_dataset/`\n",
    "* I read and save the datasets as MatrixMarket format (*.mtx)\n",
    "\n",
    "* In python, can read using `scipy.io.mmread` (https://docs.scipy.org/doc/scipy/reference/generated/scipy.io.mmread.html)\n",
    "\n",
    "* In R, can read it using \n",
    "```{r} \n",
    "Matrix::readMM(filename) \n",
    "```"
   ]
  },
  {
   "cell_type": "code",
   "execution_count": 1,
   "metadata": {},
   "outputs": [],
   "source": [
    "from scipy import sparse\n",
    "from scipy.io import mmwrite\n",
    "import numpy as np\n",
    "import gzip\n",
    "import time\n"
   ]
  },
  {
   "cell_type": "code",
   "execution_count": 2,
   "metadata": {},
   "outputs": [],
   "source": [
    "def read_BOW(data_dir, data_name):\n",
    "    print(\"read data: {}\".format(data_name))\n",
    "    row_idx = []\n",
    "    col_idx = []\n",
    "    val = []\n",
    "    summary_names = [\"Number of documents\", \"Vocab size\",\"Number of nonzero\", \"percentage of nonzero\"]\n",
    "    summary = []\n",
    "    with gzip.open(\"{}{}\".format(data_dir, data_name),'rt') as f:\n",
    "        idx = 0 \n",
    "        for line in f:\n",
    "            line_split = line.split()\n",
    "            if idx <= 2: ## first 3 lines describe information of the data\n",
    "                summary.append(int(line_split[0]))\n",
    "            else:\n",
    "                ## index starts from 1, so adapt it to python by starting from 0\n",
    "                row_idx.append(int(line_split[0])- 1)\n",
    "                col_idx.append(int(line_split[1]) - 1)\n",
    "                val.append(int(line_split[2]))\n",
    "            idx += 1\n",
    "    summary.append(summary[2]/(summary[0]*summary[1]))\n",
    "    for name, suma in zip(summary_names, summary):\n",
    "        print(\"{}:{}\".format(name, suma))\n",
    "    mat_coo = sparse.coo_matrix((val, (row_idx, col_idx)), dtype=int)\n",
    "    return mat_coo"
   ]
  },
  {
   "cell_type": "code",
   "execution_count": 3,
   "metadata": {},
   "outputs": [
    {
     "name": "stdout",
     "output_type": "stream",
     "text": [
      "read data: docword.enron.txt.gz\n",
      "Number of documents:39861\n",
      "Vocab size:28102\n",
      "Number of nonzero:3710420\n",
      "percentage of nonzero:0.0033123609274989824\n",
      "save sparse matrix to MatrixMarket file\n",
      "read and save data takes 11.63464903831482\n",
      "\n",
      "\n",
      "read data: docword.kos.txt.gz\n",
      "Number of documents:3430\n",
      "Vocab size:6906\n",
      "Number of nonzero:353160\n",
      "percentage of nonzero:0.014909078935036842\n",
      "save sparse matrix to MatrixMarket file\n",
      "read and save data takes 1.0832927227020264\n",
      "\n",
      "\n",
      "read data: docword.nips.txt.gz\n",
      "Number of documents:1500\n",
      "Vocab size:12419\n",
      "Number of nonzero:746316\n",
      "percentage of nonzero:0.04006312907641517\n",
      "save sparse matrix to MatrixMarket file\n",
      "read and save data takes 2.3032643795013428\n",
      "\n",
      "\n",
      "read data: docword.nytimes.txt.gz\n",
      "Number of documents:300000\n",
      "Vocab size:102660\n",
      "Number of nonzero:69679427\n",
      "percentage of nonzero:0.0022624659718163517\n",
      "save sparse matrix to MatrixMarket file\n",
      "read and save data takes 211.67759895324707\n",
      "\n",
      "\n",
      "read data: docword.pubmed.txt.gz\n",
      "Number of documents:8200000\n",
      "Vocab size:141043\n",
      "Number of nonzero:483450157\n",
      "percentage of nonzero:0.00041800965818588796\n",
      "save sparse matrix to MatrixMarket file\n",
      "read and save data takes 1551.9935982227325\n",
      "\n",
      "\n"
     ]
    }
   ],
   "source": [
    "data_dir = \"./\"\n",
    "data_names = [\"docword.enron\",\"docword.kos\",\"docword.nips\",\"docword.nytimes\",\"docword.pubmed\"]\n",
    "for name in data_names:\n",
    "    data_name = \"{}.txt.gz\".format(name)\n",
    "    start = time.time()\n",
    "    out = read_BOW(data_dir, data_name)\n",
    "    print(\"save sparse matrix to MatrixMarket file\")\n",
    "    mmwrite(name, out, comment='', field=None, precision=None, symmetry=None)\n",
    "    runtime = time.time() - start\n",
    "    print(\"read and save data takes {}\".format(runtime))\n",
    "    print(\"\\n\")"
   ]
  }
 ],
 "metadata": {
  "kernelspec": {
   "display_name": "Python 3",
   "language": "python",
   "name": "python3"
  },
  "language_info": {
   "codemirror_mode": {
    "name": "ipython",
    "version": 3
   },
   "file_extension": ".py",
   "mimetype": "text/x-python",
   "name": "python",
   "nbconvert_exporter": "python",
   "pygments_lexer": "ipython3",
   "version": "3.6.8"
  }
 },
 "nbformat": 4,
 "nbformat_minor": 2
}
