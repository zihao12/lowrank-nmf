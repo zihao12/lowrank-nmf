{
 "cells": [
  {
   "cell_type": "markdown",
   "metadata": {},
   "source": [
    "* This is a demo for performing topic modeling on text data \n",
    "\n",
    "* Data is downloaded from https://archive.ics.uci.edu/ml/datasets/bag+of+words. I process and save them into sparse matrix. "
   ]
  },
  {
   "cell_type": "code",
   "execution_count": 1,
   "metadata": {},
   "outputs": [],
   "source": [
    "from scipy import sparse\n",
    "from scipy.io import mmread\n",
    "import numpy as np\n",
    "import time\n",
    "from sklearn.decomposition import NMF\n",
    "import warnings\n",
    "warnings.filterwarnings('ignore')"
   ]
  },
  {
   "cell_type": "code",
   "execution_count": 2,
   "metadata": {},
   "outputs": [],
   "source": [
    "data_dir = \"/project/mstephens/zihao/text_dataset/\"\n",
    "data_name = \"nips\"\n",
    "count_name = \"docword.{}.mtx\".format(data_name)\n",
    "vocab_name = \"vocab.{}.txt\".format(data_name)"
   ]
  },
  {
   "cell_type": "markdown",
   "metadata": {},
   "source": [
    "## load counts and vocab"
   ]
  },
  {
   "cell_type": "code",
   "execution_count": 3,
   "metadata": {},
   "outputs": [
    {
     "name": "stdout",
     "output_type": "stream",
     "text": [
      "load counts\n",
      "data loaded after 1.24\n",
      "data shape: n_sample= 1500; n_feature=12419\n",
      "percentage of nonzero: 0.0401\n",
      "\n",
      "load vocab\n",
      "vocab size :12419\n"
     ]
    }
   ],
   "source": [
    "print(\"load counts\")\n",
    "start = time.time()\n",
    "counts = mmread(\"{}{}\".format(data_dir, count_name))\n",
    "runtime = time.time() - start\n",
    "print(\"data loaded after {:.3}\".format(runtime))\n",
    "(n,p) = counts.shape\n",
    "print(\"data shape: n_sample= {}; n_feature={}\".format(n, p))\n",
    "nnzero = len(np.nonzero(counts)[0])\n",
    "print(\"percentage of nonzero: {:.3}\\n\".format(nnzero/(n*p)))\n",
    "\n",
    "## load vocab\n",
    "print(\"load vocab\")\n",
    "vocab = []\n",
    "with open(\"{}{}\".format(data_dir, vocab_name), \"r\") as f:\n",
    "    for line in f:\n",
    "        vocab.append(line.split()[0])\n",
    "print(\"vocab size :{}\".format(len(vocab)))"
   ]
  },
  {
   "cell_type": "markdown",
   "metadata": {},
   "source": [
    "## Fitting data with NMF"
   ]
  },
  {
   "cell_type": "code",
   "execution_count": 4,
   "metadata": {},
   "outputs": [
    {
     "name": "stdout",
     "output_type": "stream",
     "text": [
      "fit finished after 5.03 seconds\n",
      "turn poisson model to multinomial\n"
     ]
    }
   ],
   "source": [
    "K = 5\n",
    "model = NMF(n_components= K, init = \"nndsvda\", beta_loss=\"kullback-leibler\",solver = \"mu\" ,max_iter=10)\n",
    "\n",
    "start = time.time()\n",
    "model.fit(counts)\n",
    "L = model.transform(counts)\n",
    "F = model.components_.T\n",
    "runtime = time.time() - start\n",
    "print(\"fit finished after {:.3} seconds\".format(runtime))\n",
    "\n",
    "def poisson2multinom (F, L):\n",
    "    Lnew = L * np.sum(F,0)\n",
    "    s    = np.sum(Lnew,1)\n",
    "    Lnew = (Lnew.T / s).T\n",
    "    Fnew = F / np.sum(F,0)\n",
    "    return Fnew, Lnew\n",
    "\n",
    "print(\"turn poisson model to multinomial\")\n",
    "F,L = poisson2multinom(F,L)"
   ]
  },
  {
   "cell_type": "markdown",
   "metadata": {},
   "source": [
    "## Displaying topics"
   ]
  },
  {
   "cell_type": "code",
   "execution_count": 5,
   "metadata": {},
   "outputs": [
    {
     "name": "stdout",
     "output_type": "stream",
     "text": [
      "top words for topic 1:\n",
      "network   :   0.02581\n",
      "neural   :   0.0113\n",
      "input   :   0.01067\n",
      "training   :   0.01013\n",
      "set   :   0.01009\n",
      "function   :   0.0089\n",
      "unit   :   0.008733\n",
      "error   :   0.008581\n",
      "output   :   0.007797\n",
      "weight   :   0.007779\n",
      "\n",
      "\n",
      "top words for topic 2:\n",
      "model   :   0.02404\n",
      "data   :   0.01633\n",
      "algorithm   :   0.01607\n",
      "distribution   :   0.0102\n",
      "function   :   0.008665\n",
      "parameter   :   0.008155\n",
      "method   :   0.007298\n",
      "gaussian   :   0.006611\n",
      "probability   :   0.006529\n",
      "set   :   0.005862\n",
      "\n",
      "\n",
      "top words for topic 3:\n",
      "model   :   0.015\n",
      "cell   :   0.01354\n",
      "neuron   :   0.01255\n",
      "input   :   0.009278\n",
      "visual   :   0.008689\n",
      "system   :   0.006589\n",
      "signal   :   0.00641\n",
      "response   :   0.005726\n",
      "activity   :   0.005607\n",
      "field   :   0.00554\n",
      "\n",
      "\n",
      "top words for topic 4:\n",
      "learning   :   0.02693\n",
      "function   :   0.01956\n",
      "neuron   :   0.01434\n",
      "action   :   0.009677\n",
      "circuit   :   0.00891\n",
      "optimal   :   0.007701\n",
      "chip   :   0.00739\n",
      "algorithm   :   0.007196\n",
      "current   :   0.007131\n",
      "policy   :   0.007113\n",
      "\n",
      "\n",
      "top words for topic 5:\n",
      "learning   :   0.02344\n",
      "model   :   0.01887\n",
      "control   :   0.01662\n",
      "system   :   0.01294\n",
      "task   :   0.01216\n",
      "dynamic   :   0.006696\n",
      "controller   :   0.006552\n",
      "robot   :   0.006473\n",
      "position   :   0.005867\n",
      "learn   :   0.005696\n",
      "\n",
      "\n"
     ]
    }
   ],
   "source": [
    "for k in range(F.shape[1]):\n",
    "    n_top = 10\n",
    "    ind_decr = np.argsort(F[:,k])[::-1]\n",
    "    print(\"top words for topic {}:\".format(k+1))\n",
    "    for i in ind_decr[:n_top]:\n",
    "        print(\"{}   :   {:.4}\".format(vocab[i], F[i,k]))\n",
    "    print(\"\\n\")"
   ]
  },
  {
   "cell_type": "code",
   "execution_count": null,
   "metadata": {},
   "outputs": [],
   "source": []
  }
 ],
 "metadata": {
  "kernelspec": {
   "display_name": "Python 3",
   "language": "python",
   "name": "python3"
  },
  "language_info": {
   "codemirror_mode": {
    "name": "ipython",
    "version": 3
   },
   "file_extension": ".py",
   "mimetype": "text/x-python",
   "name": "python",
   "nbconvert_exporter": "python",
   "pygments_lexer": "ipython3",
   "version": "3.6.8"
  }
 },
 "nbformat": 4,
 "nbformat_minor": 2
}
